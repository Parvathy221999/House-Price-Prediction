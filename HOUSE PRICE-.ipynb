{
 "cells": [
  {
   "cell_type": "code",
   "execution_count": 1,
   "id": "3fad8678-9698-4c86-b726-7ec9267474c8",
   "metadata": {},
   "outputs": [],
   "source": [
    "import pandas as pd\n",
    "import numpy as np\n",
    "import seaborn as sns\n",
    "import matplotlib.pyplot as plt\n",
    "from sklearn.linear_model import LinearRegression,Lasso,Ridge,ElasticNet,LogisticRegression\n",
    "from sklearn.neighbors import KNeighborsRegressor\n",
    "from sklearn.svm import SVR\n",
    "from sklearn.ensemble import RandomForestRegressor,AdaBoostRegressor,GradientBoostingRegressor,VotingRegressor\n",
    "from sklearn.tree import DecisionTreeRegressor\n",
    "from xgboost import XGBRegressor\n",
    "from sklearn.neural_network import MLPRegressor\n",
    "from sklearn.preprocessing import LabelEncoder,OneHotEncoder,StandardScaler,MinMaxScaler,RobustScaler\n",
    "from sklearn.model_selection import train_test_split\n",
    "import warnings # this library used to avoid the warnings..\n",
    "warnings.filterwarnings(\"ignore\")\n"
   ]
  },
  {
   "cell_type": "code",
   "execution_count": 2,
   "id": "f2c3b517-4a9f-4e31-af41-7f7685b69eeb",
   "metadata": {},
   "outputs": [
    {
     "data": {
      "text/html": [
       "<div>\n",
       "<style scoped>\n",
       "    .dataframe tbody tr th:only-of-type {\n",
       "        vertical-align: middle;\n",
       "    }\n",
       "\n",
       "    .dataframe tbody tr th {\n",
       "        vertical-align: top;\n",
       "    }\n",
       "\n",
       "    .dataframe thead th {\n",
       "        text-align: right;\n",
       "    }\n",
       "</style>\n",
       "<table border=\"1\" class=\"dataframe\">\n",
       "  <thead>\n",
       "    <tr style=\"text-align: right;\">\n",
       "      <th></th>\n",
       "      <th>Index</th>\n",
       "      <th>Title</th>\n",
       "      <th>Description</th>\n",
       "      <th>Amount(in rupees)</th>\n",
       "      <th>Price (in rupees)</th>\n",
       "      <th>location</th>\n",
       "      <th>Carpet Area</th>\n",
       "      <th>Status</th>\n",
       "      <th>Floor</th>\n",
       "      <th>Transaction</th>\n",
       "      <th>...</th>\n",
       "      <th>facing</th>\n",
       "      <th>overlooking</th>\n",
       "      <th>Society</th>\n",
       "      <th>Bathroom</th>\n",
       "      <th>Balcony</th>\n",
       "      <th>Car Parking</th>\n",
       "      <th>Ownership</th>\n",
       "      <th>Super Area</th>\n",
       "      <th>Dimensions</th>\n",
       "      <th>Plot Area</th>\n",
       "    </tr>\n",
       "  </thead>\n",
       "  <tbody>\n",
       "    <tr>\n",
       "      <th>0</th>\n",
       "      <td>0</td>\n",
       "      <td>1 BHK Ready to Occupy Flat for sale in Srushti...</td>\n",
       "      <td>Bhiwandi, Thane has an attractive 1 BHK Flat f...</td>\n",
       "      <td>42 Lac</td>\n",
       "      <td>6000.0</td>\n",
       "      <td>thane</td>\n",
       "      <td>500 sqft</td>\n",
       "      <td>Ready to Move</td>\n",
       "      <td>10 out of 11</td>\n",
       "      <td>Resale</td>\n",
       "      <td>...</td>\n",
       "      <td>NaN</td>\n",
       "      <td>NaN</td>\n",
       "      <td>Srushti Siddhi Mangal Murti Complex</td>\n",
       "      <td>1</td>\n",
       "      <td>2</td>\n",
       "      <td>NaN</td>\n",
       "      <td>NaN</td>\n",
       "      <td>NaN</td>\n",
       "      <td>NaN</td>\n",
       "      <td>NaN</td>\n",
       "    </tr>\n",
       "    <tr>\n",
       "      <th>1</th>\n",
       "      <td>1</td>\n",
       "      <td>2 BHK Ready to Occupy Flat for sale in Dosti V...</td>\n",
       "      <td>One can find this stunning 2 BHK flat for sale...</td>\n",
       "      <td>98 Lac</td>\n",
       "      <td>13799.0</td>\n",
       "      <td>thane</td>\n",
       "      <td>473 sqft</td>\n",
       "      <td>Ready to Move</td>\n",
       "      <td>3 out of 22</td>\n",
       "      <td>Resale</td>\n",
       "      <td>...</td>\n",
       "      <td>East</td>\n",
       "      <td>Garden/Park</td>\n",
       "      <td>Dosti Vihar</td>\n",
       "      <td>2</td>\n",
       "      <td>NaN</td>\n",
       "      <td>1 Open</td>\n",
       "      <td>Freehold</td>\n",
       "      <td>NaN</td>\n",
       "      <td>NaN</td>\n",
       "      <td>NaN</td>\n",
       "    </tr>\n",
       "    <tr>\n",
       "      <th>2</th>\n",
       "      <td>2</td>\n",
       "      <td>2 BHK Ready to Occupy Flat for sale in Sunrise...</td>\n",
       "      <td>Up for immediate sale is a 2 BHK apartment in ...</td>\n",
       "      <td>1.40 Cr</td>\n",
       "      <td>17500.0</td>\n",
       "      <td>thane</td>\n",
       "      <td>779 sqft</td>\n",
       "      <td>Ready to Move</td>\n",
       "      <td>10 out of 29</td>\n",
       "      <td>Resale</td>\n",
       "      <td>...</td>\n",
       "      <td>East</td>\n",
       "      <td>Garden/Park</td>\n",
       "      <td>Sunrise by Kalpataru</td>\n",
       "      <td>2</td>\n",
       "      <td>NaN</td>\n",
       "      <td>1 Covered</td>\n",
       "      <td>Freehold</td>\n",
       "      <td>NaN</td>\n",
       "      <td>NaN</td>\n",
       "      <td>NaN</td>\n",
       "    </tr>\n",
       "  </tbody>\n",
       "</table>\n",
       "<p>3 rows × 21 columns</p>\n",
       "</div>"
      ],
      "text/plain": [
       "   Index                                              Title  \\\n",
       "0      0  1 BHK Ready to Occupy Flat for sale in Srushti...   \n",
       "1      1  2 BHK Ready to Occupy Flat for sale in Dosti V...   \n",
       "2      2  2 BHK Ready to Occupy Flat for sale in Sunrise...   \n",
       "\n",
       "                                         Description Amount(in rupees)  \\\n",
       "0  Bhiwandi, Thane has an attractive 1 BHK Flat f...           42 Lac    \n",
       "1  One can find this stunning 2 BHK flat for sale...           98 Lac    \n",
       "2  Up for immediate sale is a 2 BHK apartment in ...          1.40 Cr    \n",
       "\n",
       "   Price (in rupees) location Carpet Area         Status         Floor  \\\n",
       "0             6000.0    thane    500 sqft  Ready to Move  10 out of 11   \n",
       "1            13799.0    thane    473 sqft  Ready to Move   3 out of 22   \n",
       "2            17500.0    thane    779 sqft  Ready to Move  10 out of 29   \n",
       "\n",
       "  Transaction  ... facing  overlooking                              Society  \\\n",
       "0      Resale  ...    NaN          NaN  Srushti Siddhi Mangal Murti Complex   \n",
       "1      Resale  ...   East  Garden/Park                          Dosti Vihar   \n",
       "2      Resale  ...   East  Garden/Park                 Sunrise by Kalpataru   \n",
       "\n",
       "  Bathroom Balcony Car Parking Ownership Super Area Dimensions  Plot Area  \n",
       "0        1       2         NaN       NaN        NaN        NaN        NaN  \n",
       "1        2     NaN      1 Open  Freehold        NaN        NaN        NaN  \n",
       "2        2     NaN   1 Covered  Freehold        NaN        NaN        NaN  \n",
       "\n",
       "[3 rows x 21 columns]"
      ]
     },
     "execution_count": 2,
     "metadata": {},
     "output_type": "execute_result"
    }
   ],
   "source": [
    "data = pd.read_csv(\"house_prices - Copy.csv\")\n",
    "df = pd.DataFrame(data)\n",
    "df.head(3)"
   ]
  },
  {
   "cell_type": "code",
   "execution_count": 3,
   "id": "d366f65c-4b63-4e3e-8acb-bf5a73700689",
   "metadata": {},
   "outputs": [
    {
     "data": {
      "text/plain": [
       "Index                187531\n",
       "Title                187531\n",
       "Description          184508\n",
       "Amount(in rupees)    187531\n",
       "Price (in rupees)    169866\n",
       "location             187531\n",
       "Carpet Area          106858\n",
       "Status               186916\n",
       "Floor                180454\n",
       "Transaction          187448\n",
       "Furnishing           184634\n",
       "facing               117298\n",
       "overlooking          106095\n",
       "Society               77853\n",
       "Bathroom             186703\n",
       "Balcony              138596\n",
       "Car Parking           84174\n",
       "Ownership            122014\n",
       "Super Area            79846\n",
       "Dimensions                0\n",
       "Plot Area                 0\n",
       "dtype: int64"
      ]
     },
     "execution_count": 3,
     "metadata": {},
     "output_type": "execute_result"
    }
   ],
   "source": [
    "df.count()"
   ]
  },
  {
   "cell_type": "code",
   "execution_count": 4,
   "id": "621c902f-cc8b-4035-8573-24fc9703204b",
   "metadata": {},
   "outputs": [
    {
     "name": "stdout",
     "output_type": "stream",
     "text": [
      "<class 'pandas.core.frame.DataFrame'>\n",
      "RangeIndex: 187531 entries, 0 to 187530\n",
      "Data columns (total 21 columns):\n",
      " #   Column             Non-Null Count   Dtype  \n",
      "---  ------             --------------   -----  \n",
      " 0   Index              187531 non-null  int64  \n",
      " 1   Title              187531 non-null  object \n",
      " 2   Description        184508 non-null  object \n",
      " 3   Amount(in rupees)  187531 non-null  object \n",
      " 4   Price (in rupees)  169866 non-null  float64\n",
      " 5   location           187531 non-null  object \n",
      " 6   Carpet Area        106858 non-null  object \n",
      " 7   Status             186916 non-null  object \n",
      " 8   Floor              180454 non-null  object \n",
      " 9   Transaction        187448 non-null  object \n",
      " 10  Furnishing         184634 non-null  object \n",
      " 11  facing             117298 non-null  object \n",
      " 12  overlooking        106095 non-null  object \n",
      " 13  Society            77853 non-null   object \n",
      " 14  Bathroom           186703 non-null  object \n",
      " 15  Balcony            138596 non-null  object \n",
      " 16  Car Parking        84174 non-null   object \n",
      " 17  Ownership          122014 non-null  object \n",
      " 18  Super Area         79846 non-null   object \n",
      " 19  Dimensions         0 non-null       float64\n",
      " 20  Plot Area          0 non-null       float64\n",
      "dtypes: float64(3), int64(1), object(17)\n",
      "memory usage: 30.0+ MB\n"
     ]
    }
   ],
   "source": [
    "df.info()"
   ]
  },
  {
   "cell_type": "code",
   "execution_count": 5,
   "id": "4ceab99c-a8a6-412e-a18e-9a34bbcdce6c",
   "metadata": {},
   "outputs": [
    {
     "data": {
      "text/plain": [
       "(187531, 21)"
      ]
     },
     "execution_count": 5,
     "metadata": {},
     "output_type": "execute_result"
    }
   ],
   "source": [
    "df.shape"
   ]
  },
  {
   "cell_type": "code",
   "execution_count": 6,
   "id": "1638a403-5793-4517-8296-7b552b75cb1a",
   "metadata": {},
   "outputs": [
    {
     "name": "stdout",
     "output_type": "stream",
     "text": [
      "1: Index\n",
      "2: Title\n",
      "3: Description\n",
      "4: Amount(in rupees)\n",
      "5: Price (in rupees)\n",
      "6: location\n",
      "7: Carpet Area\n",
      "8: Status\n",
      "9: Floor\n",
      "10: Transaction\n",
      "11: Furnishing\n",
      "12: facing\n",
      "13: overlooking\n",
      "14: Society\n",
      "15: Bathroom\n",
      "16: Balcony\n",
      "17: Car Parking\n",
      "18: Ownership\n",
      "19: Super Area\n",
      "20: Dimensions\n",
      "21: Plot Area\n"
     ]
    }
   ],
   "source": [
    "for idx,columns in enumerate(df.columns):\n",
    "    print(f\"{idx+1}: {columns}\")"
   ]
  },
  {
   "cell_type": "code",
   "execution_count": 7,
   "id": "8fe96347-7b67-4594-9cab-87550da6bdfe",
   "metadata": {},
   "outputs": [
    {
     "data": {
      "text/plain": [
       "Plot Area                 0\n",
       "Dimensions                0\n",
       "Status                    1\n",
       "Furnishing                3\n",
       "Transaction               4\n",
       "Ownership                 4\n",
       "facing                    8\n",
       "Bathroom                 11\n",
       "Balcony                  11\n",
       "overlooking              19\n",
       "location                 81\n",
       "Car Parking             229\n",
       "Floor                   947\n",
       "Amount(in rupees)      1561\n",
       "Carpet Area            2758\n",
       "Super Area             2976\n",
       "Society               10376\n",
       "Price (in rupees)     10958\n",
       "Title                 32446\n",
       "Description           65634\n",
       "Index                187531\n",
       "dtype: int64"
      ]
     },
     "execution_count": 7,
     "metadata": {},
     "output_type": "execute_result"
    }
   ],
   "source": [
    "df.nunique().sort_values()"
   ]
  },
  {
   "cell_type": "code",
   "execution_count": 8,
   "id": "43c2b08c-d83a-4d60-9799-34569a098aaf",
   "metadata": {},
   "outputs": [],
   "source": [
    "df.drop(columns=['Dimensions', 'Plot Area', 'Index',\"Floor\",'Title', \n",
    "                 'Description','Status','Society',\"overlooking\",\"Car Parking\"], inplace=True, errors='ignore')"
   ]
  },
  {
   "cell_type": "code",
   "execution_count": 9,
   "id": "f2edcf75-af67-4e5e-b068-906e37e2fa4d",
   "metadata": {},
   "outputs": [],
   "source": [
    "split_data = []\n",
    "for amount in df[\"Carpet Area\"].astype(str):  \n",
    "    try:        \n",
    "        numeric, unit = amount.split()        \n",
    "        split_data.append([float(numeric), unit])  \n",
    "    except (ValueError, AttributeError): \n",
    "        split_data.append([None, None])\n",
    "df[['Carpet Area', 'Carpet Area Unit']] = pd.DataFrame(split_data, columns=[\"Carpet Area\", \"Carpet Area Unit\"])"
   ]
  },
  {
   "cell_type": "code",
   "execution_count": 10,
   "id": "749e55e0-ba38-4d5f-8c7b-7870f3460bb6",
   "metadata": {},
   "outputs": [
    {
     "data": {
      "text/plain": [
       "Carpet Area Unit\n",
       "sqft                100428\n",
       "sqyrd                 5526\n",
       "sqm                    894\n",
       "marla                    3\n",
       "acre                     2\n",
       "kanal                    2\n",
       "bigha                    1\n",
       "cent                     1\n",
       "ground                   1\n",
       "dtype: int64"
      ]
     },
     "execution_count": 10,
     "metadata": {},
     "output_type": "execute_result"
    }
   ],
   "source": [
    "df[[\"Carpet Area Unit\"]].value_counts()"
   ]
  },
  {
   "cell_type": "code",
   "execution_count": 11,
   "id": "b61c77c4-63f8-499b-9a6e-e673ef0c8374",
   "metadata": {},
   "outputs": [
    {
     "data": {
      "text/plain": [
       "dtype('O')"
      ]
     },
     "execution_count": 11,
     "metadata": {},
     "output_type": "execute_result"
    }
   ],
   "source": [
    "df[\"Carpet Area Unit\"].dtypes"
   ]
  },
  {
   "cell_type": "code",
   "execution_count": 12,
   "id": "23040e52-227b-4f72-8f4c-648bcf890cbe",
   "metadata": {},
   "outputs": [],
   "source": [
    "split_data = []\n",
    "for amount in df[\"Super Area\"].astype(str):  \n",
    "    try:        \n",
    "        numeric, unit = amount.split()        \n",
    "        split_data.append([float(numeric), unit])  \n",
    "    except (ValueError, AttributeError): \n",
    "        split_data.append([None, None])\n",
    "df[['Super Area', 'Super Area Unit']] = pd.DataFrame(split_data, columns=[\"Super Area\", \"Super Area Unit\"])"
   ]
  },
  {
   "cell_type": "code",
   "execution_count": 13,
   "id": "31e8cca5-42f5-47e4-b78b-650125e446d4",
   "metadata": {},
   "outputs": [
    {
     "data": {
      "text/plain": [
       "Super Area Unit\n",
       "sqft               75353\n",
       "sqyrd               3547\n",
       "sqm                  873\n",
       "marla                  8\n",
       "kanal                  4\n",
       "ground                 2\n",
       "aankadam               1\n",
       "acre                   1\n",
       "biswa2                 1\n",
       "cent                   1\n",
       "hectare                1\n",
       "dtype: int64"
      ]
     },
     "execution_count": 13,
     "metadata": {},
     "output_type": "execute_result"
    }
   ],
   "source": [
    "df[[\"Super Area Unit\"]].value_counts()"
   ]
  },
  {
   "cell_type": "code",
   "execution_count": 14,
   "id": "1c80a402-35a4-4646-907d-1020442d15a7",
   "metadata": {},
   "outputs": [],
   "source": [
    "split_data = []\n",
    "for amount in df[\"Amount(in rupees)\"]:\n",
    "    try:\n",
    "        numeric, unit = amount.split()\n",
    "        split_data.append([float(numeric), unit])\n",
    "    except ValueError:        \n",
    "        split_data.append([None, None])\n",
    "df[['Amount', 'Amount Unit']] = pd.DataFrame(split_data, columns=[\"Amount\", \"Amount Unit\"])\n",
    "df.drop([\"Amount(in rupees)\"],inplace=True,axis=1)"
   ]
  },
  {
   "cell_type": "code",
   "execution_count": 15,
   "id": "5f87b3af-84b0-4b9a-8e59-5c41654e22d2",
   "metadata": {},
   "outputs": [],
   "source": [
    "df[\"Amount Unit\"] = df[\"Amount Unit\"].replace({\"Lac\": 100000, \"Cr\": 10000000})"
   ]
  },
  {
   "cell_type": "code",
   "execution_count": 16,
   "id": "dfb017fd-dfa5-4d8c-b992-e24ea3ff9e35",
   "metadata": {},
   "outputs": [],
   "source": [
    "df[\"Total price\"]= df[\"Amount\"] * df[\"Amount Unit\"]\n",
    "df.drop([\"Amount\",\"Amount Unit\"],inplace=True,axis=1)"
   ]
  },
  {
   "cell_type": "markdown",
   "id": "433e342b-3101-4554-8bd6-2f663698087d",
   "metadata": {},
   "source": [
    "## Exploratory Data Analysis"
   ]
  },
  {
   "cell_type": "code",
   "execution_count": 17,
   "id": "1fc9e2a3-04e8-4e5b-a163-12282a0528e7",
   "metadata": {},
   "outputs": [
    {
     "data": {
      "text/plain": [
       "Index(['Price (in rupees)', 'location', 'Carpet Area', 'Transaction',\n",
       "       'Furnishing', 'facing', 'Bathroom', 'Balcony', 'Ownership',\n",
       "       'Super Area', 'Carpet Area Unit', 'Super Area Unit', 'Total price'],\n",
       "      dtype='object')"
      ]
     },
     "execution_count": 17,
     "metadata": {},
     "output_type": "execute_result"
    }
   ],
   "source": [
    "df.columns"
   ]
  },
  {
   "cell_type": "code",
   "execution_count": 18,
   "id": "dd2aae68-45ff-4e4e-8edc-673f7c3cddcf",
   "metadata": {},
   "outputs": [
    {
     "data": {
      "image/png": "[encoded data removed]",
      "text/plain": [
       "<Figure size 1000x1000 with 4 Axes>"
      ]
     },
     "metadata": {},
     "output_type": "display_data"
    }
   ],
   "source": [
    "a=df.iloc[:,2:6]\n",
    "plt.figure(figsize=(10,10))\n",
    "no=1\n",
    "for i in a:\n",
    "    if no<=9:\n",
    "        plt.suptitle(\"HISTPLOT\",fontsize=15,color=\"red\")\n",
    "        plt.subplot(3,3,no)\n",
    "        sns.histplot(x=a[i],kde=True)\n",
    "        plt.xlabel(i)\n",
    "        plt.xticks(rotation=90)\n",
    "    no+=1\n",
    "plt.subplots_adjust(hspace=0.5, wspace=0.5)\n",
    "plt.show()"
   ]
  },
  {
   "cell_type": "code",
   "execution_count": 19,
   "id": "55b7bf93-d281-4b48-a0a0-578ce3c94bfa",
   "metadata": {},
   "outputs": [
    {
     "data": {
      "image/png": "[encoded data removed]",
      "text/plain": [
       "<Figure size 2000x1000 with 5 Axes>"
      ]
     },
     "metadata": {},
     "output_type": "display_data"
    }
   ],
   "source": [
    "plt.figure(figsize=(20,10))\n",
    "n=1\n",
    "for i in df.iloc[:,7:-1]:\n",
    "    if n<=12:\n",
    "        plt.subplot(3,4,n)\n",
    "        sns.scatterplot(x=df[i],y=\"Total price\",data=df,palette=[\"red\",\"blue\",\"green\"],color=\"red\")\n",
    "        plt.xlabel(i)\n",
    "    n+=1"
   ]
  },
  {
   "cell_type": "code",
   "execution_count": 20,
   "id": "4ceb1bac-8cf2-4049-9474-80038c46dd0d",
   "metadata": {},
   "outputs": [
    {
     "data": {
      "text/html": [
       "<div>\n",
       "<style scoped>\n",
       "    .dataframe tbody tr th:only-of-type {\n",
       "        vertical-align: middle;\n",
       "    }\n",
       "\n",
       "    .dataframe tbody tr th {\n",
       "        vertical-align: top;\n",
       "    }\n",
       "\n",
       "    .dataframe thead th {\n",
       "        text-align: right;\n",
       "    }\n",
       "</style>\n",
       "<table border=\"1\" class=\"dataframe\">\n",
       "  <thead>\n",
       "    <tr style=\"text-align: right;\">\n",
       "      <th></th>\n",
       "      <th>Price (in rupees)</th>\n",
       "      <th>Carpet Area</th>\n",
       "      <th>Super Area</th>\n",
       "      <th>Total price</th>\n",
       "    </tr>\n",
       "  </thead>\n",
       "  <tbody>\n",
       "    <tr>\n",
       "      <th>Price (in rupees)</th>\n",
       "      <td>1.000000</td>\n",
       "      <td>0.009542</td>\n",
       "      <td>0.037071</td>\n",
       "      <td>0.762790</td>\n",
       "    </tr>\n",
       "    <tr>\n",
       "      <th>Carpet Area</th>\n",
       "      <td>0.009542</td>\n",
       "      <td>1.000000</td>\n",
       "      <td>NaN</td>\n",
       "      <td>0.047554</td>\n",
       "    </tr>\n",
       "    <tr>\n",
       "      <th>Super Area</th>\n",
       "      <td>0.037071</td>\n",
       "      <td>NaN</td>\n",
       "      <td>1.000000</td>\n",
       "      <td>0.573735</td>\n",
       "    </tr>\n",
       "    <tr>\n",
       "      <th>Total price</th>\n",
       "      <td>0.762790</td>\n",
       "      <td>0.047554</td>\n",
       "      <td>0.573735</td>\n",
       "      <td>1.000000</td>\n",
       "    </tr>\n",
       "  </tbody>\n",
       "</table>\n",
       "</div>"
      ],
      "text/plain": [
       "                   Price (in rupees)  Carpet Area  Super Area  Total price\n",
       "Price (in rupees)           1.000000     0.009542    0.037071     0.762790\n",
       "Carpet Area                 0.009542     1.000000         NaN     0.047554\n",
       "Super Area                  0.037071          NaN    1.000000     0.573735\n",
       "Total price                 0.762790     0.047554    0.573735     1.000000"
      ]
     },
     "execution_count": 20,
     "metadata": {},
     "output_type": "execute_result"
    }
   ],
   "source": [
    "c=df.corr(numeric_only=True)\n",
    "c"
   ]
  },
  {
   "cell_type": "code",
   "execution_count": 21,
   "id": "cb87340f-1b52-41d8-9d99-dcfa8900e6ac",
   "metadata": {},
   "outputs": [
    {
     "data": {
      "image/png": "[encoded data removed]",
      "text/plain": [
       "<Figure size 1000x1000 with 2 Axes>"
      ]
     },
     "metadata": {},
     "output_type": "display_data"
    }
   ],
   "source": [
    "plt.figure(figsize=(10,10))\n",
    "sns.heatmap(data=c,annot=True)\n",
    "plt.show()"
   ]
  },
  {
   "cell_type": "code",
   "execution_count": 22,
   "id": "bfe7abeb-9c8a-4d25-953f-fbf1bbbf00c1",
   "metadata": {},
   "outputs": [
    {
     "data": {
      "text/html": [
       "<div>\n",
       "<style scoped>\n",
       "    .dataframe tbody tr th:only-of-type {\n",
       "        vertical-align: middle;\n",
       "    }\n",
       "\n",
       "    .dataframe tbody tr th {\n",
       "        vertical-align: top;\n",
       "    }\n",
       "\n",
       "    .dataframe thead th {\n",
       "        text-align: right;\n",
       "    }\n",
       "</style>\n",
       "<table border=\"1\" class=\"dataframe\">\n",
       "  <thead>\n",
       "    <tr style=\"text-align: right;\">\n",
       "      <th></th>\n",
       "      <th>Price (in rupees)</th>\n",
       "      <th>Carpet Area</th>\n",
       "      <th>Super Area</th>\n",
       "      <th>Total price</th>\n",
       "    </tr>\n",
       "  </thead>\n",
       "  <tbody>\n",
       "    <tr>\n",
       "      <th>count</th>\n",
       "      <td>1.698660e+05</td>\n",
       "      <td>106858.000000</td>\n",
       "      <td>79792.000000</td>\n",
       "      <td>1.778470e+05</td>\n",
       "    </tr>\n",
       "    <tr>\n",
       "      <th>mean</th>\n",
       "      <td>7.583772e+03</td>\n",
       "      <td>1199.795186</td>\n",
       "      <td>1307.762157</td>\n",
       "      <td>1.198134e+07</td>\n",
       "    </tr>\n",
       "    <tr>\n",
       "      <th>std</th>\n",
       "      <td>2.724171e+04</td>\n",
       "      <td>3046.197568</td>\n",
       "      <td>686.619108</td>\n",
       "      <td>3.943827e+07</td>\n",
       "    </tr>\n",
       "    <tr>\n",
       "      <th>min</th>\n",
       "      <td>0.000000e+00</td>\n",
       "      <td>1.000000</td>\n",
       "      <td>1.000000</td>\n",
       "      <td>1.000000e+05</td>\n",
       "    </tr>\n",
       "    <tr>\n",
       "      <th>25%</th>\n",
       "      <td>4.297000e+03</td>\n",
       "      <td>745.000000</td>\n",
       "      <td>925.000000</td>\n",
       "      <td>4.840000e+06</td>\n",
       "    </tr>\n",
       "    <tr>\n",
       "      <th>50%</th>\n",
       "      <td>6.034000e+03</td>\n",
       "      <td>1000.000000</td>\n",
       "      <td>1250.000000</td>\n",
       "      <td>7.800000e+06</td>\n",
       "    </tr>\n",
       "    <tr>\n",
       "      <th>75%</th>\n",
       "      <td>9.450000e+03</td>\n",
       "      <td>1500.000000</td>\n",
       "      <td>1650.000000</td>\n",
       "      <td>1.450000e+07</td>\n",
       "    </tr>\n",
       "    <tr>\n",
       "      <th>max</th>\n",
       "      <td>6.700000e+06</td>\n",
       "      <td>709222.000000</td>\n",
       "      <td>9450.000000</td>\n",
       "      <td>1.400300e+10</td>\n",
       "    </tr>\n",
       "  </tbody>\n",
       "</table>\n",
       "</div>"
      ],
      "text/plain": [
       "       Price (in rupees)    Carpet Area    Super Area   Total price\n",
       "count       1.698660e+05  106858.000000  79792.000000  1.778470e+05\n",
       "mean        7.583772e+03    1199.795186   1307.762157  1.198134e+07\n",
       "std         2.724171e+04    3046.197568    686.619108  3.943827e+07\n",
       "min         0.000000e+00       1.000000      1.000000  1.000000e+05\n",
       "25%         4.297000e+03     745.000000    925.000000  4.840000e+06\n",
       "50%         6.034000e+03    1000.000000   1250.000000  7.800000e+06\n",
       "75%         9.450000e+03    1500.000000   1650.000000  1.450000e+07\n",
       "max         6.700000e+06  709222.000000   9450.000000  1.400300e+10"
      ]
     },
     "execution_count": 22,
     "metadata": {},
     "output_type": "execute_result"
    }
   ],
   "source": [
    "df.describe() # find the statistical analysis in given data."
   ]
  },
  {
   "cell_type": "markdown",
   "id": "16451234-3b36-4e8b-a169-e528fd01b108",
   "metadata": {},
   "source": [
    "## sweetviz using to analyze the data.."
   ]
  },
  {
   "cell_type": "code",
   "execution_count": 25,
   "id": "5e4bcbce-3972-42d0-9200-02a8e067b2c8",
   "metadata": {},
   "outputs": [],
   "source": [
    "#!pip install sweetviz"
   ]
  },
  {
   "cell_type": "code",
   "execution_count": 26,
   "id": "af3e2acb-301e-4a70-924f-4ce14d723bb5",
   "metadata": {},
   "outputs": [
    {
     "data": {
      "application/vnd.jupyter.widget-view+json": {
       "model_id": "c30f180c86f94a979c25a5102fb94be5",
       "version_major": 2,
       "version_minor": 0
      },
      "text/plain": [
       "                                             |                                             | [  0%]   00:00 ->…"
      ]
     },
     "metadata": {},
     "output_type": "display_data"
    },
    {
     "data": {
      "application/vnd.jupyter.widget-view+json": {
       "model_id": "c30f180c86f94a979c25a5102fb94be5",
       "version_major": 2,
       "version_minor": 0
      },
      "text/plain": [
       "                                             |                                             | [  0%]   00:00 ->…"
      ]
     },
     "metadata": {},
     "output_type": "display_data"
    },
    {
     "name": "stdout",
     "output_type": "stream",
     "text": [
      "Report report.html was generated! NOTEBOOK/COLAB USERS: the web browser MAY not pop up, regardless, the report IS saved in your notebook/colab files.\n",
      "Report report.html was generated! NOTEBOOK/COLAB USERS: the web browser MAY not pop up, regardless, the report IS saved in your notebook/colab files.\n"
     ]
    }
   ],
   "source": [
    "import sweetviz as sv\n",
    "report = sv.analyze(df)\n",
    "report.show_html('report.html')"
   ]
  },
  {
   "cell_type": "markdown",
   "id": "c3c3d1e9-f62c-4759-9c9d-a78fb52da58d",
   "metadata": {},
   "source": [
    "## Data preprocessing"
   ]
  },
  {
   "cell_type": "code",
   "execution_count": 23,
   "id": "14d52693-d3a8-4b83-9688-888dcd3f3138",
   "metadata": {},
   "outputs": [
    {
     "data": {
      "text/plain": [
       "Price (in rupees)     17665\n",
       "location                  0\n",
       "Carpet Area           80673\n",
       "Transaction              83\n",
       "Furnishing             2897\n",
       "facing                70233\n",
       "Bathroom                828\n",
       "Balcony               48935\n",
       "Ownership             65517\n",
       "Super Area           107739\n",
       "Carpet Area Unit      80673\n",
       "Super Area Unit      107739\n",
       "Total price            9684\n",
       "dtype: int64"
      ]
     },
     "execution_count": 23,
     "metadata": {},
     "output_type": "execute_result"
    }
   ],
   "source": [
    "df.isna().sum()"
   ]
  },
  {
   "cell_type": "code",
   "execution_count": 24,
   "id": "3563491f-9994-4c75-9847-e69177bbeccd",
   "metadata": {},
   "outputs": [],
   "source": [
    "df[\"Transaction\"].fillna(value=df[\"Transaction\"].mode()[0],inplace=True)\n",
    "df[\"Furnishing\"].fillna(value=df[\"Furnishing\"].mode()[0],inplace=True)\n",
    "df[\"facing\"].fillna(value=df[\"facing\"].mode()[0],inplace=True)\n",
    "df[\"Ownership\"].fillna(value=df[\"Ownership\"].mode()[0],inplace=True)"
   ]
  },
  {
   "cell_type": "code",
   "execution_count": 25,
   "id": "b096c155-37b9-4995-b99f-e0b8f21faa7e",
   "metadata": {},
   "outputs": [
    {
     "data": {
      "text/plain": [
       "array(['1', '2', '3', '4', '6', nan, '5', '10', '9', '8', '> 10', '7'],\n",
       "      dtype=object)"
      ]
     },
     "execution_count": 25,
     "metadata": {},
     "output_type": "execute_result"
    }
   ],
   "source": [
    "df[\"Bathroom\"].unique()"
   ]
  },
  {
   "cell_type": "code",
   "execution_count": 26,
   "id": "f05cedac-f479-42e6-804b-72047899fba9",
   "metadata": {},
   "outputs": [],
   "source": [
    "df[\"Bathroom\"] = df[\"Bathroom\"].replace('> 10', '10')"
   ]
  },
  {
   "cell_type": "code",
   "execution_count": 27,
   "id": "2e372138-8287-42d7-af7a-7ed1fbc0bc0d",
   "metadata": {},
   "outputs": [],
   "source": [
    "df[\"Bathroom\"] = df[\"Bathroom\"].fillna(value=df[\"Bathroom\"].mode()[0]).astype(float)"
   ]
  },
  {
   "cell_type": "code",
   "execution_count": 28,
   "id": "3b7d72b6-7223-47cc-8217-964e17c9398f",
   "metadata": {},
   "outputs": [],
   "source": [
    "df[\"Balcony\"].unique()\n",
    "df[\"Balcony\"] = df[\"Balcony\"].replace('> 10', '10')\n",
    "df[\"Balcony\"] = df[\"Balcony\"].fillna(value=df[\"Bathroom\"].mode()[0]).astype(float)"
   ]
  },
  {
   "cell_type": "code",
   "execution_count": 29,
   "id": "a7c5b2ab-8094-40ae-9cf3-beb244c9be81",
   "metadata": {},
   "outputs": [
    {
     "data": {
      "text/plain": [
       "Price (in rupees)    float64\n",
       "location              object\n",
       "Carpet Area          float64\n",
       "Transaction           object\n",
       "Furnishing            object\n",
       "facing                object\n",
       "Bathroom             float64\n",
       "Balcony              float64\n",
       "Ownership             object\n",
       "Super Area           float64\n",
       "Carpet Area Unit      object\n",
       "Super Area Unit       object\n",
       "Total price          float64\n",
       "dtype: object"
      ]
     },
     "execution_count": 29,
     "metadata": {},
     "output_type": "execute_result"
    }
   ],
   "source": [
    "df.dtypes"
   ]
  },
  {
   "cell_type": "code",
   "execution_count": 30,
   "id": "d7964f20-61b9-41bf-a19f-1ace6d10cbea",
   "metadata": {},
   "outputs": [
    {
     "data": {
      "text/plain": [
       "Price (in rupees)     17665\n",
       "location                  0\n",
       "Carpet Area           80673\n",
       "Transaction               0\n",
       "Furnishing                0\n",
       "facing                    0\n",
       "Bathroom                  0\n",
       "Balcony                   0\n",
       "Ownership                 0\n",
       "Super Area           107739\n",
       "Carpet Area Unit      80673\n",
       "Super Area Unit      107739\n",
       "Total price            9684\n",
       "dtype: int64"
      ]
     },
     "execution_count": 30,
     "metadata": {},
     "output_type": "execute_result"
    }
   ],
   "source": [
    "df.isna().sum()"
   ]
  },
  {
   "cell_type": "code",
   "execution_count": 31,
   "id": "871965bd-f11b-44b6-81e3-be07d44c1355",
   "metadata": {},
   "outputs": [],
   "source": [
    "df[\"Carpet Area\"].fillna(value=0, inplace=True)\n",
    "df[\"Super Area\"].fillna(value=0, inplace=True)\n",
    "df[\"Total price\"].fillna(value=df[\"Total price\"].median(), inplace=True)\n",
    "df[\"Price (in rupees)\"].fillna(value=df[\"Price (in rupees)\"].median(), inplace=True)\n",
    "df[\"Carpet Area Unit\"].fillna(value=df[\"Carpet Area Unit\"].mode()[0], inplace=True)\n",
    "df[\"Super Area Unit\"].fillna(value=df[\"Super Area Unit\"].mode()[0], inplace=True)"
   ]
  },
  {
   "cell_type": "code",
   "execution_count": 32,
   "id": "5cd79dff-990b-40bd-b0f0-a1ed84e5c41d",
   "metadata": {},
   "outputs": [
    {
     "name": "stdout",
     "output_type": "stream",
     "text": [
      "\n",
      "Percentage of outliers for each column:\n",
      " Price (in rupees)    5.569746\n",
      "Carpet Area          1.657326\n",
      "Bathroom             1.952211\n",
      "Balcony              5.576145\n",
      "Super Area           1.052093\n",
      "Total price          8.002410\n",
      "dtype: float64\n"
     ]
    }
   ],
   "source": [
    "data = df.select_dtypes(include=[\"int\", \"float\"])\n",
    "q1 = data.quantile(0.25, interpolation=\"midpoint\")\n",
    "q2 = data.quantile(0.5, interpolation=\"midpoint\")\n",
    "q3 = data.quantile(0.75, interpolation=\"midpoint\")\n",
    "iqr = q3 - q1\n",
    "upper = q3 + (1.5 * iqr)\n",
    "lower = q1 - (1.5 * iqr)\n",
    "outlier = ((data > upper) | (data < lower)).sum()\n",
    "outlier_percentage = (outlier / len(data)) * 100\n",
    "print('\\nPercentage of outliers for each column:\\n', outlier_percentage)\n"
   ]
  },
  {
   "cell_type": "markdown",
   "id": "2e676548-1d40-4a3a-a80c-843471b703f2",
   "metadata": {},
   "source": [
    "## OUTLIER HANDELD"
   ]
  },
  {
   "cell_type": "code",
   "execution_count": 33,
   "id": "71c0d213-c1f7-4500-a4fc-4fc7477a5df5",
   "metadata": {},
   "outputs": [],
   "source": [
    "numeric_columns = df.select_dtypes(include=['int','float']).columns\n",
    "for column in numeric_columns:\n",
    "    # Example: Handling outliers by replacing with median\n",
    "    Q1 = df[column].quantile(0.25)\n",
    "    Q3 = df[column].quantile(0.75)\n",
    "    IQR = Q3 - Q1\n",
    "    lower_bound = Q1 - 1.5 * IQR\n",
    "    upper_bound = Q3 + 1.5 * IQR\n",
    "    median_value = df[column][((df[column] >= lower_bound) & (df[column] <= upper_bound))].median()\n",
    "    df[column] = np.where((df[column] < lower_bound) | (df[column] > upper_bound), median_value, df[column])\n"
   ]
  },
  {
   "cell_type": "code",
   "execution_count": 34,
   "id": "a3f04bd7-f41a-4e8c-b36b-4d7e932203f6",
   "metadata": {},
   "outputs": [
    {
     "name": "stdout",
     "output_type": "stream",
     "text": [
      "\n",
      "Percentage of outliers for each column:\n",
      " Price (in rupees)    5.590009\n",
      "Carpet Area          0.238894\n",
      "Bathroom             0.000000\n",
      "Balcony              0.000000\n",
      "Super Area           0.058124\n",
      "Total price          8.153852\n",
      "dtype: float64\n"
     ]
    }
   ],
   "source": [
    "data = df.select_dtypes(include=[\"int\", \"float\"])\n",
    "q1 = data.quantile(0.25, interpolation=\"midpoint\")\n",
    "q2 = data.quantile(0.5, interpolation=\"midpoint\")\n",
    "q3 = data.quantile(0.75, interpolation=\"midpoint\")\n",
    "iqr = q3 - q1\n",
    "upper = q3 + (1.5 * iqr)\n",
    "lower = q1 - (1.5 * iqr)\n",
    "outlier = ((data > upper) | (data < lower)).sum()\n",
    "outlier_percentage = (outlier / len(data)) * 100\n",
    "print('\\nPercentage of outliers for each column:\\n', outlier_percentage)"
   ]
  },
  {
   "cell_type": "code",
   "execution_count": 35,
   "id": "09877d0e-8804-457a-a7fc-215d0d90247f",
   "metadata": {},
   "outputs": [
    {
     "data": {
      "text/plain": [
       "122004"
      ]
     },
     "execution_count": 35,
     "metadata": {},
     "output_type": "execute_result"
    }
   ],
   "source": [
    "df.duplicated().sum()"
   ]
  },
  {
   "cell_type": "code",
   "execution_count": 36,
   "id": "add0ce9b-7770-41d4-a76c-a8e7edd522a3",
   "metadata": {},
   "outputs": [],
   "source": [
    "df.drop_duplicates(inplace=True)"
   ]
  },
  {
   "cell_type": "code",
   "execution_count": 37,
   "id": "998f5592-983c-4477-847a-e75e2b0409a6",
   "metadata": {},
   "outputs": [
    {
     "data": {
      "text/plain": [
       "0"
      ]
     },
     "execution_count": 37,
     "metadata": {},
     "output_type": "execute_result"
    }
   ],
   "source": [
    "df.duplicated().sum()"
   ]
  },
  {
   "cell_type": "code",
   "execution_count": 38,
   "id": "8f5c514a-e7c7-45b5-8590-ae37cb519de3",
   "metadata": {},
   "outputs": [
    {
     "data": {
      "text/plain": [
       "(65527, 13)"
      ]
     },
     "execution_count": 38,
     "metadata": {},
     "output_type": "execute_result"
    }
   ],
   "source": [
    "df.shape"
   ]
  },
  {
   "cell_type": "markdown",
   "id": "a37d3a61-f149-4845-a92f-7a064edbf61e",
   "metadata": {},
   "source": [
    "## feature engineering."
   ]
  },
  {
   "cell_type": "code",
   "execution_count": 39,
   "id": "45e62116-3638-424e-8a34-b1c29cd0dee5",
   "metadata": {},
   "outputs": [
    {
     "data": {
      "text/plain": [
       "Price (in rupees)    float64\n",
       "location              object\n",
       "Carpet Area          float64\n",
       "Transaction           object\n",
       "Furnishing            object\n",
       "facing                object\n",
       "Bathroom             float64\n",
       "Balcony              float64\n",
       "Ownership             object\n",
       "Super Area           float64\n",
       "Carpet Area Unit      object\n",
       "Super Area Unit       object\n",
       "Total price          float64\n",
       "dtype: object"
      ]
     },
     "execution_count": 39,
     "metadata": {},
     "output_type": "execute_result"
    }
   ],
   "source": [
    "df.dtypes"
   ]
  },
  {
   "cell_type": "code",
   "execution_count": 40,
   "id": "7b86349c-5a21-4020-b1f4-8f92f0466a11",
   "metadata": {},
   "outputs": [],
   "source": [
    "enc=LabelEncoder()\n",
    "df.loc[:,[\"Carpet Area Unit\",\"location\",\"Transaction\",\"Furnishing\",\"facing\",\"Ownership\",\"Super Area Unit\"]]=\\\n",
    "df.loc[:,[\"Carpet Area Unit\",\"location\",\"Transaction\",\"Furnishing\",\"facing\",\"Ownership\",\"Super Area Unit\"]].apply(enc.fit_transform)"
   ]
  },
  {
   "cell_type": "code",
   "execution_count": 41,
   "id": "26e0033f-02c0-4913-a7c0-653ee78a2ef0",
   "metadata": {},
   "outputs": [
    {
     "data": {
      "text/html": [
       "<div>\n",
       "<style scoped>\n",
       "    .dataframe tbody tr th:only-of-type {\n",
       "        vertical-align: middle;\n",
       "    }\n",
       "\n",
       "    .dataframe tbody tr th {\n",
       "        vertical-align: top;\n",
       "    }\n",
       "\n",
       "    .dataframe thead th {\n",
       "        text-align: right;\n",
       "    }\n",
       "</style>\n",
       "<table border=\"1\" class=\"dataframe\">\n",
       "  <thead>\n",
       "    <tr style=\"text-align: right;\">\n",
       "      <th></th>\n",
       "      <th>Price (in rupees)</th>\n",
       "      <th>location</th>\n",
       "      <th>Carpet Area</th>\n",
       "      <th>Transaction</th>\n",
       "      <th>Furnishing</th>\n",
       "      <th>facing</th>\n",
       "      <th>Bathroom</th>\n",
       "      <th>Balcony</th>\n",
       "      <th>Ownership</th>\n",
       "      <th>Super Area</th>\n",
       "      <th>Carpet Area Unit</th>\n",
       "      <th>Super Area Unit</th>\n",
       "      <th>Total price</th>\n",
       "    </tr>\n",
       "  </thead>\n",
       "  <tbody>\n",
       "    <tr>\n",
       "      <th>0</th>\n",
       "      <td>6000.0</td>\n",
       "      <td>67</td>\n",
       "      <td>500.0</td>\n",
       "      <td>3</td>\n",
       "      <td>2</td>\n",
       "      <td>0</td>\n",
       "      <td>1.0</td>\n",
       "      <td>2.0</td>\n",
       "      <td>1</td>\n",
       "      <td>0.0</td>\n",
       "      <td>6</td>\n",
       "      <td>8</td>\n",
       "      <td>4200000.0</td>\n",
       "    </tr>\n",
       "    <tr>\n",
       "      <th>1</th>\n",
       "      <td>13799.0</td>\n",
       "      <td>67</td>\n",
       "      <td>473.0</td>\n",
       "      <td>3</td>\n",
       "      <td>1</td>\n",
       "      <td>0</td>\n",
       "      <td>2.0</td>\n",
       "      <td>2.0</td>\n",
       "      <td>1</td>\n",
       "      <td>0.0</td>\n",
       "      <td>6</td>\n",
       "      <td>8</td>\n",
       "      <td>9800000.0</td>\n",
       "    </tr>\n",
       "    <tr>\n",
       "      <th>2</th>\n",
       "      <td>6034.0</td>\n",
       "      <td>67</td>\n",
       "      <td>779.0</td>\n",
       "      <td>3</td>\n",
       "      <td>2</td>\n",
       "      <td>0</td>\n",
       "      <td>2.0</td>\n",
       "      <td>2.0</td>\n",
       "      <td>1</td>\n",
       "      <td>0.0</td>\n",
       "      <td>6</td>\n",
       "      <td>8</td>\n",
       "      <td>14000000.0</td>\n",
       "    </tr>\n",
       "    <tr>\n",
       "      <th>3</th>\n",
       "      <td>6034.0</td>\n",
       "      <td>67</td>\n",
       "      <td>530.0</td>\n",
       "      <td>3</td>\n",
       "      <td>2</td>\n",
       "      <td>0</td>\n",
       "      <td>1.0</td>\n",
       "      <td>1.0</td>\n",
       "      <td>1</td>\n",
       "      <td>0.0</td>\n",
       "      <td>6</td>\n",
       "      <td>8</td>\n",
       "      <td>2500000.0</td>\n",
       "    </tr>\n",
       "    <tr>\n",
       "      <th>4</th>\n",
       "      <td>6034.0</td>\n",
       "      <td>67</td>\n",
       "      <td>635.0</td>\n",
       "      <td>3</td>\n",
       "      <td>2</td>\n",
       "      <td>7</td>\n",
       "      <td>2.0</td>\n",
       "      <td>2.0</td>\n",
       "      <td>0</td>\n",
       "      <td>0.0</td>\n",
       "      <td>6</td>\n",
       "      <td>8</td>\n",
       "      <td>16000000.0</td>\n",
       "    </tr>\n",
       "    <tr>\n",
       "      <th>...</th>\n",
       "      <td>...</td>\n",
       "      <td>...</td>\n",
       "      <td>...</td>\n",
       "      <td>...</td>\n",
       "      <td>...</td>\n",
       "      <td>...</td>\n",
       "      <td>...</td>\n",
       "      <td>...</td>\n",
       "      <td>...</td>\n",
       "      <td>...</td>\n",
       "      <td>...</td>\n",
       "      <td>...</td>\n",
       "      <td>...</td>\n",
       "    </tr>\n",
       "    <tr>\n",
       "      <th>187526</th>\n",
       "      <td>3225.0</td>\n",
       "      <td>80</td>\n",
       "      <td>0.0</td>\n",
       "      <td>0</td>\n",
       "      <td>1</td>\n",
       "      <td>0</td>\n",
       "      <td>3.0</td>\n",
       "      <td>3.0</td>\n",
       "      <td>1</td>\n",
       "      <td>1953.0</td>\n",
       "      <td>6</td>\n",
       "      <td>8</td>\n",
       "      <td>6300000.0</td>\n",
       "    </tr>\n",
       "    <tr>\n",
       "      <th>187527</th>\n",
       "      <td>3274.0</td>\n",
       "      <td>80</td>\n",
       "      <td>0.0</td>\n",
       "      <td>3</td>\n",
       "      <td>2</td>\n",
       "      <td>2</td>\n",
       "      <td>3.0</td>\n",
       "      <td>2.0</td>\n",
       "      <td>1</td>\n",
       "      <td>1680.0</td>\n",
       "      <td>6</td>\n",
       "      <td>8</td>\n",
       "      <td>5500000.0</td>\n",
       "    </tr>\n",
       "    <tr>\n",
       "      <th>187528</th>\n",
       "      <td>4343.0</td>\n",
       "      <td>80</td>\n",
       "      <td>1250.0</td>\n",
       "      <td>3</td>\n",
       "      <td>0</td>\n",
       "      <td>0</td>\n",
       "      <td>3.0</td>\n",
       "      <td>2.0</td>\n",
       "      <td>1</td>\n",
       "      <td>0.0</td>\n",
       "      <td>6</td>\n",
       "      <td>8</td>\n",
       "      <td>7600000.0</td>\n",
       "    </tr>\n",
       "    <tr>\n",
       "      <th>187529</th>\n",
       "      <td>4231.0</td>\n",
       "      <td>80</td>\n",
       "      <td>0.0</td>\n",
       "      <td>3</td>\n",
       "      <td>1</td>\n",
       "      <td>0</td>\n",
       "      <td>2.0</td>\n",
       "      <td>2.0</td>\n",
       "      <td>1</td>\n",
       "      <td>709.0</td>\n",
       "      <td>6</td>\n",
       "      <td>8</td>\n",
       "      <td>3000000.0</td>\n",
       "    </tr>\n",
       "    <tr>\n",
       "      <th>187530</th>\n",
       "      <td>6162.0</td>\n",
       "      <td>80</td>\n",
       "      <td>0.0</td>\n",
       "      <td>3</td>\n",
       "      <td>1</td>\n",
       "      <td>2</td>\n",
       "      <td>4.0</td>\n",
       "      <td>2.0</td>\n",
       "      <td>1</td>\n",
       "      <td>1915.0</td>\n",
       "      <td>6</td>\n",
       "      <td>8</td>\n",
       "      <td>11800000.0</td>\n",
       "    </tr>\n",
       "  </tbody>\n",
       "</table>\n",
       "<p>65527 rows × 13 columns</p>\n",
       "</div>"
      ],
      "text/plain": [
       "        Price (in rupees)  location  Carpet Area  Transaction  Furnishing  \\\n",
       "0                  6000.0        67        500.0            3           2   \n",
       "1                 13799.0        67        473.0            3           1   \n",
       "2                  6034.0        67        779.0            3           2   \n",
       "3                  6034.0        67        530.0            3           2   \n",
       "4                  6034.0        67        635.0            3           2   \n",
       "...                   ...       ...          ...          ...         ...   \n",
       "187526             3225.0        80          0.0            0           1   \n",
       "187527             3274.0        80          0.0            3           2   \n",
       "187528             4343.0        80       1250.0            3           0   \n",
       "187529             4231.0        80          0.0            3           1   \n",
       "187530             6162.0        80          0.0            3           1   \n",
       "\n",
       "        facing  Bathroom  Balcony  Ownership  Super Area  Carpet Area Unit  \\\n",
       "0            0       1.0      2.0          1         0.0                 6   \n",
       "1            0       2.0      2.0          1         0.0                 6   \n",
       "2            0       2.0      2.0          1         0.0                 6   \n",
       "3            0       1.0      1.0          1         0.0                 6   \n",
       "4            7       2.0      2.0          0         0.0                 6   \n",
       "...        ...       ...      ...        ...         ...               ...   \n",
       "187526       0       3.0      3.0          1      1953.0                 6   \n",
       "187527       2       3.0      2.0          1      1680.0                 6   \n",
       "187528       0       3.0      2.0          1         0.0                 6   \n",
       "187529       0       2.0      2.0          1       709.0                 6   \n",
       "187530       2       4.0      2.0          1      1915.0                 6   \n",
       "\n",
       "        Super Area Unit  Total price  \n",
       "0                     8    4200000.0  \n",
       "1                     8    9800000.0  \n",
       "2                     8   14000000.0  \n",
       "3                     8    2500000.0  \n",
       "4                     8   16000000.0  \n",
       "...                 ...          ...  \n",
       "187526                8    6300000.0  \n",
       "187527                8    5500000.0  \n",
       "187528                8    7600000.0  \n",
       "187529                8    3000000.0  \n",
       "187530                8   11800000.0  \n",
       "\n",
       "[65527 rows x 13 columns]"
      ]
     },
     "execution_count": 41,
     "metadata": {},
     "output_type": "execute_result"
    }
   ],
   "source": [
    "df"
   ]
  },
  {
   "cell_type": "code",
   "execution_count": 42,
   "id": "2e6669ee-f93f-4ad0-9d35-d03ad834cf5d",
   "metadata": {},
   "outputs": [
    {
     "data": {
      "text/html": [
       "<div>\n",
       "<style scoped>\n",
       "    .dataframe tbody tr th:only-of-type {\n",
       "        vertical-align: middle;\n",
       "    }\n",
       "\n",
       "    .dataframe tbody tr th {\n",
       "        vertical-align: top;\n",
       "    }\n",
       "\n",
       "    .dataframe thead th {\n",
       "        text-align: right;\n",
       "    }\n",
       "</style>\n",
       "<table border=\"1\" class=\"dataframe\">\n",
       "  <thead>\n",
       "    <tr style=\"text-align: right;\">\n",
       "      <th></th>\n",
       "      <th>Price (in rupees)</th>\n",
       "      <th>location</th>\n",
       "      <th>Carpet Area</th>\n",
       "      <th>Transaction</th>\n",
       "      <th>Furnishing</th>\n",
       "      <th>facing</th>\n",
       "      <th>Bathroom</th>\n",
       "      <th>Balcony</th>\n",
       "      <th>Ownership</th>\n",
       "      <th>Super Area</th>\n",
       "      <th>Carpet Area Unit</th>\n",
       "      <th>Super Area Unit</th>\n",
       "    </tr>\n",
       "  </thead>\n",
       "  <tbody>\n",
       "    <tr>\n",
       "      <th>0</th>\n",
       "      <td>6000.0</td>\n",
       "      <td>67</td>\n",
       "      <td>500.0</td>\n",
       "      <td>3</td>\n",
       "      <td>2</td>\n",
       "      <td>0</td>\n",
       "      <td>1.0</td>\n",
       "      <td>2.0</td>\n",
       "      <td>1</td>\n",
       "      <td>0.0</td>\n",
       "      <td>6</td>\n",
       "      <td>8</td>\n",
       "    </tr>\n",
       "    <tr>\n",
       "      <th>1</th>\n",
       "      <td>13799.0</td>\n",
       "      <td>67</td>\n",
       "      <td>473.0</td>\n",
       "      <td>3</td>\n",
       "      <td>1</td>\n",
       "      <td>0</td>\n",
       "      <td>2.0</td>\n",
       "      <td>2.0</td>\n",
       "      <td>1</td>\n",
       "      <td>0.0</td>\n",
       "      <td>6</td>\n",
       "      <td>8</td>\n",
       "    </tr>\n",
       "    <tr>\n",
       "      <th>2</th>\n",
       "      <td>6034.0</td>\n",
       "      <td>67</td>\n",
       "      <td>779.0</td>\n",
       "      <td>3</td>\n",
       "      <td>2</td>\n",
       "      <td>0</td>\n",
       "      <td>2.0</td>\n",
       "      <td>2.0</td>\n",
       "      <td>1</td>\n",
       "      <td>0.0</td>\n",
       "      <td>6</td>\n",
       "      <td>8</td>\n",
       "    </tr>\n",
       "    <tr>\n",
       "      <th>3</th>\n",
       "      <td>6034.0</td>\n",
       "      <td>67</td>\n",
       "      <td>530.0</td>\n",
       "      <td>3</td>\n",
       "      <td>2</td>\n",
       "      <td>0</td>\n",
       "      <td>1.0</td>\n",
       "      <td>1.0</td>\n",
       "      <td>1</td>\n",
       "      <td>0.0</td>\n",
       "      <td>6</td>\n",
       "      <td>8</td>\n",
       "    </tr>\n",
       "    <tr>\n",
       "      <th>4</th>\n",
       "      <td>6034.0</td>\n",
       "      <td>67</td>\n",
       "      <td>635.0</td>\n",
       "      <td>3</td>\n",
       "      <td>2</td>\n",
       "      <td>7</td>\n",
       "      <td>2.0</td>\n",
       "      <td>2.0</td>\n",
       "      <td>0</td>\n",
       "      <td>0.0</td>\n",
       "      <td>6</td>\n",
       "      <td>8</td>\n",
       "    </tr>\n",
       "    <tr>\n",
       "      <th>...</th>\n",
       "      <td>...</td>\n",
       "      <td>...</td>\n",
       "      <td>...</td>\n",
       "      <td>...</td>\n",
       "      <td>...</td>\n",
       "      <td>...</td>\n",
       "      <td>...</td>\n",
       "      <td>...</td>\n",
       "      <td>...</td>\n",
       "      <td>...</td>\n",
       "      <td>...</td>\n",
       "      <td>...</td>\n",
       "    </tr>\n",
       "    <tr>\n",
       "      <th>187526</th>\n",
       "      <td>3225.0</td>\n",
       "      <td>80</td>\n",
       "      <td>0.0</td>\n",
       "      <td>0</td>\n",
       "      <td>1</td>\n",
       "      <td>0</td>\n",
       "      <td>3.0</td>\n",
       "      <td>3.0</td>\n",
       "      <td>1</td>\n",
       "      <td>1953.0</td>\n",
       "      <td>6</td>\n",
       "      <td>8</td>\n",
       "    </tr>\n",
       "    <tr>\n",
       "      <th>187527</th>\n",
       "      <td>3274.0</td>\n",
       "      <td>80</td>\n",
       "      <td>0.0</td>\n",
       "      <td>3</td>\n",
       "      <td>2</td>\n",
       "      <td>2</td>\n",
       "      <td>3.0</td>\n",
       "      <td>2.0</td>\n",
       "      <td>1</td>\n",
       "      <td>1680.0</td>\n",
       "      <td>6</td>\n",
       "      <td>8</td>\n",
       "    </tr>\n",
       "    <tr>\n",
       "      <th>187528</th>\n",
       "      <td>4343.0</td>\n",
       "      <td>80</td>\n",
       "      <td>1250.0</td>\n",
       "      <td>3</td>\n",
       "      <td>0</td>\n",
       "      <td>0</td>\n",
       "      <td>3.0</td>\n",
       "      <td>2.0</td>\n",
       "      <td>1</td>\n",
       "      <td>0.0</td>\n",
       "      <td>6</td>\n",
       "      <td>8</td>\n",
       "    </tr>\n",
       "    <tr>\n",
       "      <th>187529</th>\n",
       "      <td>4231.0</td>\n",
       "      <td>80</td>\n",
       "      <td>0.0</td>\n",
       "      <td>3</td>\n",
       "      <td>1</td>\n",
       "      <td>0</td>\n",
       "      <td>2.0</td>\n",
       "      <td>2.0</td>\n",
       "      <td>1</td>\n",
       "      <td>709.0</td>\n",
       "      <td>6</td>\n",
       "      <td>8</td>\n",
       "    </tr>\n",
       "    <tr>\n",
       "      <th>187530</th>\n",
       "      <td>6162.0</td>\n",
       "      <td>80</td>\n",
       "      <td>0.0</td>\n",
       "      <td>3</td>\n",
       "      <td>1</td>\n",
       "      <td>2</td>\n",
       "      <td>4.0</td>\n",
       "      <td>2.0</td>\n",
       "      <td>1</td>\n",
       "      <td>1915.0</td>\n",
       "      <td>6</td>\n",
       "      <td>8</td>\n",
       "    </tr>\n",
       "  </tbody>\n",
       "</table>\n",
       "<p>65527 rows × 12 columns</p>\n",
       "</div>"
      ],
      "text/plain": [
       "        Price (in rupees)  location  Carpet Area  Transaction  Furnishing  \\\n",
       "0                  6000.0        67        500.0            3           2   \n",
       "1                 13799.0        67        473.0            3           1   \n",
       "2                  6034.0        67        779.0            3           2   \n",
       "3                  6034.0        67        530.0            3           2   \n",
       "4                  6034.0        67        635.0            3           2   \n",
       "...                   ...       ...          ...          ...         ...   \n",
       "187526             3225.0        80          0.0            0           1   \n",
       "187527             3274.0        80          0.0            3           2   \n",
       "187528             4343.0        80       1250.0            3           0   \n",
       "187529             4231.0        80          0.0            3           1   \n",
       "187530             6162.0        80          0.0            3           1   \n",
       "\n",
       "        facing  Bathroom  Balcony  Ownership  Super Area  Carpet Area Unit  \\\n",
       "0            0       1.0      2.0          1         0.0                 6   \n",
       "1            0       2.0      2.0          1         0.0                 6   \n",
       "2            0       2.0      2.0          1         0.0                 6   \n",
       "3            0       1.0      1.0          1         0.0                 6   \n",
       "4            7       2.0      2.0          0         0.0                 6   \n",
       "...        ...       ...      ...        ...         ...               ...   \n",
       "187526       0       3.0      3.0          1      1953.0                 6   \n",
       "187527       2       3.0      2.0          1      1680.0                 6   \n",
       "187528       0       3.0      2.0          1         0.0                 6   \n",
       "187529       0       2.0      2.0          1       709.0                 6   \n",
       "187530       2       4.0      2.0          1      1915.0                 6   \n",
       "\n",
       "        Super Area Unit  \n",
       "0                     8  \n",
       "1                     8  \n",
       "2                     8  \n",
       "3                     8  \n",
       "4                     8  \n",
       "...                 ...  \n",
       "187526                8  \n",
       "187527                8  \n",
       "187528                8  \n",
       "187529                8  \n",
       "187530                8  \n",
       "\n",
       "[65527 rows x 12 columns]"
      ]
     },
     "execution_count": 42,
     "metadata": {},
     "output_type": "execute_result"
    }
   ],
   "source": [
    "x=df.drop([\"Total price\"],axis=1)\n",
    "x"
   ]
  },
  {
   "cell_type": "code",
   "execution_count": 43,
   "id": "544947b3-8d35-4943-8c2b-7a13d9c80da9",
   "metadata": {},
   "outputs": [
    {
     "data": {
      "text/plain": [
       "0          4200000.0\n",
       "1          9800000.0\n",
       "2         14000000.0\n",
       "3          2500000.0\n",
       "4         16000000.0\n",
       "             ...    \n",
       "187526     6300000.0\n",
       "187527     5500000.0\n",
       "187528     7600000.0\n",
       "187529     3000000.0\n",
       "187530    11800000.0\n",
       "Name: Total price, Length: 65527, dtype: float64"
      ]
     },
     "execution_count": 43,
     "metadata": {},
     "output_type": "execute_result"
    }
   ],
   "source": [
    "y=df[\"Total price\"]\n",
    "y"
   ]
  },
  {
   "cell_type": "code",
   "execution_count": 44,
   "id": "69252cea-ad8f-411d-ba8c-846029278edb",
   "metadata": {},
   "outputs": [],
   "source": [
    "x_train,x_test,y_train,y_test=train_test_split(x,y,test_size=0.30,random_state=4)"
   ]
  },
  {
   "cell_type": "code",
   "execution_count": 45,
   "id": "ddebe118-d0be-4d5d-9ccf-97b3eba6ac6b",
   "metadata": {},
   "outputs": [],
   "source": [
    "from sklearn.metrics import r2_score,mean_absolute_error,mean_squared_error\n",
    "def calculate_accuracy_score(x_train,y_train,x_test,y_test,model):    \n",
    "    pre3=model.predict(x_test)\n",
    "    train_score=model.score(x_train,y_train)\n",
    "    test_score=model.score(x_test,y_test)\n",
    "    MAE=mean_absolute_error(y_test,pre3)\n",
    "    MSE=mean_squared_error(y_test,pre3)\n",
    "    RMSE=mean_squared_error(y_test,pre3,squared=False)\n",
    "    return train_score,test_score,MAE,MSE,RMSE"
   ]
  },
  {
   "cell_type": "code",
   "execution_count": 46,
   "id": "59ceee06-0209-4187-89fc-f9bf679ac399",
   "metadata": {},
   "outputs": [],
   "source": [
    "#print(jkejwkllk3kl)"
   ]
  },
  {
   "cell_type": "markdown",
   "id": "6b681df0-c21c-4a58-a34b-ace451d95e3d",
   "metadata": {},
   "source": [
    "## LinearRegression"
   ]
  },
  {
   "cell_type": "code",
   "execution_count": 47,
   "id": "48fb8358-a9da-4934-985a-eb7b6d28cc61",
   "metadata": {},
   "outputs": [
    {
     "name": "stdout",
     "output_type": "stream",
     "text": [
      "test accuracy : 0.5810744857084126\n",
      "train accuracy : 0.5689267201493604\n",
      "MAE : 1844386.130461444\n",
      "MSE : 9932436148027.385\n",
      "RMSE : 3151576.7717171963\n"
     ]
    }
   ],
   "source": [
    "model=LinearRegression()\n",
    "model.fit(x_train,y_train)\n",
    "train_score,test_score,MAE,MSE,RMSE = calculate_accuracy_score(x_train,y_train,x_test,y_test,model)\n",
    "print(\"test accuracy :\",test_score)\n",
    "print(\"train accuracy :\",train_score)\n",
    "print(\"MAE :\",MAE)\n",
    "print(\"MSE :\",MSE)\n",
    "print(\"RMSE :\",RMSE)"
   ]
  },
  {
   "cell_type": "markdown",
   "id": "b64ca83e-db57-425f-8148-4094af46c40c",
   "metadata": {},
   "source": [
    "## DecisionTreeRegressor"
   ]
  },
  {
   "cell_type": "code",
   "execution_count": 48,
   "id": "da1521c5-5761-4a11-8b7e-7592d69a9af2",
   "metadata": {},
   "outputs": [
    {
     "name": "stdout",
     "output_type": "stream",
     "text": [
      "test accuracy : 0.7664562569534257\n",
      "train accuracy : 0.7721362314037973\n",
      "MAE : 1196660.2809095592\n",
      "MSE : 5537161706428.909\n",
      "RMSE : 2353117.4442489925\n"
     ]
    }
   ],
   "source": [
    "dt=DecisionTreeRegressor(max_depth=100,min_samples_split=15,min_samples_leaf=50,ccp_alpha=0.001)\n",
    "dt.fit(x_train,y_train)\n",
    "train_score,test_score,MAE,MSE,RMSE = calculate_accuracy_score(x_train,y_train,x_test,y_test,dt)\n",
    "print(\"test accuracy :\",test_score)\n",
    "print(\"train accuracy :\",train_score)\n",
    "print(\"MAE :\",MAE)\n",
    "print(\"MSE :\",MSE)\n",
    "print(\"RMSE :\",RMSE)"
   ]
  },
  {
   "cell_type": "markdown",
   "id": "277643b9-e358-4a23-8dfd-0988cc9e0a9b",
   "metadata": {},
   "source": [
    "## GradientBoostingRegressor"
   ]
  },
  {
   "cell_type": "code",
   "execution_count": 49,
   "id": "a0e187d5-b41d-46ed-abbc-8540c16a022c",
   "metadata": {},
   "outputs": [
    {
     "name": "stdout",
     "output_type": "stream",
     "text": [
      "test accuracy : 0.7527124271185767\n",
      "train accuracy : 0.7585098390996304\n",
      "MAE : 1280084.9400579622\n",
      "MSE : 5863018469998.996\n",
      "RMSE : 2421367.066348883\n"
     ]
    }
   ],
   "source": [
    "gd=GradientBoostingRegressor(subsample=0.4,max_depth=10, min_samples_split=0.1,n_estimators=300)\n",
    "gd=gd.fit(x_train,y_train)\n",
    "train_score,test_score,MAE,MSE,RMSE = calculate_accuracy_score(x_train,y_train,x_test,y_test,gd)\n",
    "print(\"test accuracy :\",test_score)\n",
    "print(\"train accuracy :\",train_score)\n",
    "print(\"MAE :\",MAE)\n",
    "print(\"MSE :\",MSE)\n",
    "print(\"RMSE :\",RMSE)"
   ]
  },
  {
   "cell_type": "markdown",
   "id": "047c5264-492f-482c-a434-6f513dad62bd",
   "metadata": {},
   "source": [
    "## RandomForestRegressor"
   ]
  },
  {
   "cell_type": "code",
   "execution_count": 50,
   "id": "5b05b98d-3f3d-4ef3-8f4d-27443412588a",
   "metadata": {},
   "outputs": [
    {
     "name": "stdout",
     "output_type": "stream",
     "text": [
      "test accuracy : 0.7772092070860269\n",
      "train accuracy : 0.7784494559729508\n",
      "MAE : 1139817.547073308\n",
      "MSE : 5282216645907.611\n",
      "RMSE : 2298307.343656982\n"
     ]
    }
   ],
   "source": [
    "rf=RandomForestRegressor(n_estimators=200,max_depth=100,min_samples_leaf=40,max_features=16,min_samples_split=40)\n",
    "rf.fit(x_train,y_train)\n",
    "train_score,test_score,MAE,MSE,RMSE = calculate_accuracy_score(x_train,y_train,x_test,y_test,rf)\n",
    "print(\"test accuracy :\",test_score)\n",
    "print(\"train accuracy :\",train_score)\n",
    "print(\"MAE :\",MAE)\n",
    "print(\"MSE :\",MSE)\n",
    "print(\"RMSE :\",RMSE)"
   ]
  },
  {
   "cell_type": "markdown",
   "id": "b441c105-f8d7-4c11-8658-1555cabdbec9",
   "metadata": {},
   "source": [
    "## AdaBoostRegressor"
   ]
  },
  {
   "cell_type": "code",
   "execution_count": 51,
   "id": "ac644dd0-b808-45aa-81dc-ed0a91a89e2e",
   "metadata": {},
   "outputs": [
    {
     "name": "stdout",
     "output_type": "stream",
     "text": [
      "test accuracy : 0.799275740215155\n",
      "train accuracy : 0.8461240221616562\n",
      "MAE : 1128696.05344245\n",
      "MSE : 4759034304808.084\n",
      "RMSE : 2181521.0988684213\n"
     ]
    }
   ],
   "source": [
    "ad = AdaBoostRegressor(estimator=dt,random_state=4,n_estimators=50,learning_rate=0.1)\n",
    "ad.fit(x_train,y_train)\n",
    "train_score,test_score,MAE,MSE,RMSE = calculate_accuracy_score(x_train,y_train,x_test,y_test,ad)\n",
    "print(\"test accuracy :\",test_score)\n",
    "print(\"train accuracy :\",train_score)\n",
    "print(\"MAE :\",MAE)\n",
    "print(\"MSE :\",MSE)\n",
    "print(\"RMSE :\",RMSE)"
   ]
  },
  {
   "cell_type": "markdown",
   "id": "f3f85955-ab28-4ad2-bb26-2fdf3790d003",
   "metadata": {},
   "source": [
    "## KNN"
   ]
  },
  {
   "cell_type": "code",
   "execution_count": 52,
   "id": "b1271c0f-6cda-4755-9536-26cea9c0fe47",
   "metadata": {},
   "outputs": [],
   "source": [
    "from sklearn.neighbors import KNeighborsRegressor\n",
    "error_rate=[]\n",
    "for i in range(1,20):\n",
    "    knn=KNeighborsRegressor(n_neighbors=i)\n",
    "    knn.fit(x_train,y_train)\n",
    "    y_pred=knn.predict(x_test)\n",
    "    error_rate.append(np.mean(y_pred!=y_test))"
   ]
  },
  {
   "cell_type": "code",
   "execution_count": 53,
   "id": "a6f76c7a-032a-432b-8928-973dd9178316",
   "metadata": {},
   "outputs": [
    {
     "name": "stdout",
     "output_type": "stream",
     "text": [
      "Minimum error:- 0.6728216084236228 at K = 1\n"
     ]
    },
    {
     "data": {
      "image/png": "[encoded data removed]",
      "text/plain": [
       "<Figure size 1200x600 with 1 Axes>"
      ]
     },
     "metadata": {},
     "output_type": "display_data"
    }
   ],
   "source": [
    "plt.figure(figsize=(12, 6))\n",
    "plt.plot(range(1,20), error_rate, color='red', linestyle='dashed', marker='o',\n",
    "         markerfacecolor='blue', markersize=10)\n",
    "plt.title('Error Rate K Value')\n",
    "plt.xlabel('K Value')\n",
    "plt.ylabel('Mean Error')\n",
    "print(\"Minimum error:-\",min(error_rate),\"at K =\",error_rate.index(min(error_rate))+1)"
   ]
  },
  {
   "cell_type": "code",
   "execution_count": 54,
   "id": "1d570053-18d2-43ad-868a-f59bd71e7d1c",
   "metadata": {},
   "outputs": [
    {
     "name": "stdout",
     "output_type": "stream",
     "text": [
      "test accuracy : 0.7309246839573003\n",
      "train accuracy : 0.7583216106141903\n",
      "MAE : 1190631.9104365802\n",
      "MSE : 6379590892485.473\n",
      "RMSE : 2525785.203156728\n"
     ]
    }
   ],
   "source": [
    "from sklearn.metrics import r2_score,mean_absolute_error,mean_squared_error\n",
    "model1=KNeighborsRegressor(n_neighbors=11,leaf_size=60,p=2)\n",
    "model1.fit(x_train,y_train)\n",
    "train_score,test_score,MAE,MSE,RMSE = calculate_accuracy_score(x_train,y_train,x_test,y_test,model1)\n",
    "print(\"test accuracy :\",test_score)\n",
    "print(\"train accuracy :\",train_score)\n",
    "print(\"MAE :\",MAE)\n",
    "print(\"MSE :\",MSE)\n",
    "print(\"RMSE :\",RMSE)"
   ]
  },
  {
   "cell_type": "markdown",
   "id": "884be0c4-a72e-4bba-85dd-e786e9c049e9",
   "metadata": {},
   "source": [
    "## Select best test accuracy"
   ]
  },
  {
   "cell_type": "code",
   "execution_count": 55,
   "id": "ee474030-6d05-4799-b8e0-933eb9f9e3e6",
   "metadata": {},
   "outputs": [
    {
     "data": {
      "image/png": "[encoded data removed]",
      "text/plain": [
       "<Figure size 640x480 with 1 Axes>"
      ]
     },
     "metadata": {},
     "output_type": "display_data"
    }
   ],
   "source": [
    "a=[\"linear\",\"decision_tree\",\"random_forest\",\"gradientboost\",\"adaboost\",\"knn\"]\n",
    "b=[0.58,0.76,0.77,0.75,0.79,0.73]\n",
    "sns.barplot(x=b,y=a)\n",
    "plt.xlabel('Models')\n",
    "plt.ylabel('Test Accuracy')\n",
    "plt.title('Test Accuracy Comparison of Models')\n",
    "plt.show()"
   ]
  },
  {
   "cell_type": "markdown",
   "id": "89282a9c-d994-42f2-bfe3-011e55769d45",
   "metadata": {},
   "source": [
    "## Deployment."
   ]
  },
  {
   "cell_type": "code",
   "execution_count": 56,
   "id": "df023aae-1bee-4735-9df8-174091758577",
   "metadata": {},
   "outputs": [],
   "source": [
    "import pickle as pkl\n",
    "pkl.dump(rf,open(\"mobile.pkl\",\"wb\"))\n",
    "read=pkl.load(open(\"mobile.pkl\",\"rb\"))"
   ]
  },
  {
   "cell_type": "code",
   "execution_count": 57,
   "id": "5f6af629-afad-450a-881c-ce4609978a86",
   "metadata": {},
   "outputs": [
    {
     "data": {
      "text/html": [
       "<div>\n",
       "<style scoped>\n",
       "    .dataframe tbody tr th:only-of-type {\n",
       "        vertical-align: middle;\n",
       "    }\n",
       "\n",
       "    .dataframe tbody tr th {\n",
       "        vertical-align: top;\n",
       "    }\n",
       "\n",
       "    .dataframe thead th {\n",
       "        text-align: right;\n",
       "    }\n",
       "</style>\n",
       "<table border=\"1\" class=\"dataframe\">\n",
       "  <thead>\n",
       "    <tr style=\"text-align: right;\">\n",
       "      <th></th>\n",
       "      <th>Price (in rupees)</th>\n",
       "      <th>location</th>\n",
       "      <th>Carpet Area</th>\n",
       "      <th>Transaction</th>\n",
       "      <th>Furnishing</th>\n",
       "      <th>facing</th>\n",
       "      <th>Bathroom</th>\n",
       "      <th>Balcony</th>\n",
       "      <th>Ownership</th>\n",
       "      <th>Super Area</th>\n",
       "      <th>Carpet Area Unit</th>\n",
       "      <th>Super Area Unit</th>\n",
       "    </tr>\n",
       "  </thead>\n",
       "  <tbody>\n",
       "    <tr>\n",
       "      <th>0</th>\n",
       "      <td>6000.0</td>\n",
       "      <td>67</td>\n",
       "      <td>500.0</td>\n",
       "      <td>3</td>\n",
       "      <td>2</td>\n",
       "      <td>0</td>\n",
       "      <td>1.0</td>\n",
       "      <td>2.0</td>\n",
       "      <td>1</td>\n",
       "      <td>0.0</td>\n",
       "      <td>6</td>\n",
       "      <td>8</td>\n",
       "    </tr>\n",
       "  </tbody>\n",
       "</table>\n",
       "</div>"
      ],
      "text/plain": [
       "   Price (in rupees)  location  Carpet Area  Transaction  Furnishing  facing  \\\n",
       "0             6000.0        67        500.0            3           2       0   \n",
       "\n",
       "   Bathroom  Balcony  Ownership  Super Area  Carpet Area Unit  Super Area Unit  \n",
       "0       1.0      2.0          1         0.0                 6                8  "
      ]
     },
     "execution_count": 57,
     "metadata": {},
     "output_type": "execute_result"
    }
   ],
   "source": [
    "x.head(1)"
   ]
  },
  {
   "cell_type": "code",
   "execution_count": 58,
   "id": "99e97f4c-7949-413e-91fb-0157529d0d6b",
   "metadata": {},
   "outputs": [
    {
     "data": {
      "text/plain": [
       "0    4200000.0\n",
       "Name: Total price, dtype: float64"
      ]
     },
     "execution_count": 58,
     "metadata": {},
     "output_type": "execute_result"
    }
   ],
   "source": [
    "y.head(1)"
   ]
  },
  {
   "cell_type": "code",
   "execution_count": 59,
   "id": "9d9a6d36-5e2f-44ab-b94b-74171010f00e",
   "metadata": {},
   "outputs": [
    {
     "name": "stdout",
     "output_type": "stream",
     "text": [
      "3744002.564171864\n"
     ]
    }
   ],
   "source": [
    "# predict the value\n",
    "independent_input_data=[6000.0,67,500.0,3,2,0,1.0,2.0,1,0.0,6,8]\n",
    "e=read.predict([independent_input_data])[0]\n",
    "print(e)"
   ]
  },
  {
   "cell_type": "code",
   "execution_count": null,
   "id": "203cf281-fdc5-4144-bd30-e1e5910333ab",
   "metadata": {},
   "outputs": [],
   "source": []
  },
  {
   "cell_type": "code",
   "execution_count": null,
   "id": "9fe288ae",
   "metadata": {},
   "outputs": [],
   "source": []
  },
  {
   "cell_type": "code",
   "execution_count": null,
   "id": "571c2b3a",
   "metadata": {},
   "outputs": [],
   "source": []
  }
 ],
 "metadata": {
  "kernelspec": {
   "display_name": "Python 3 (ipykernel)",
   "language": "python",
   "name": "python3"
  },
  "language_info": {
   "codemirror_mode": {
    "name": "ipython",
    "version": 3
   },
   "file_extension": ".py",
   "mimetype": "text/x-python",
   "name": "python",
   "nbconvert_exporter": "python",
   "pygments_lexer": "ipython3",
   "version": "3.12.7"
  }
 },
 "nbformat": 4,
 "nbformat_minor": 5
}
